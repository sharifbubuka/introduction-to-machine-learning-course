{
 "cells": [
  {
   "cell_type": "markdown",
   "id": "d6a42394-5f88-4b16-ab63-16ab65893829",
   "metadata": {},
   "source": [
    "# Introduction to Machine Learning"
   ]
  },
  {
   "cell_type": "markdown",
   "id": "ce6abefb-5bfe-446c-97ab-e2a2ad6dff52",
   "metadata": {},
   "source": [
    "## Logistic Regression\n",
    "\n",
    "Logistic regression is a statistical method for predicting binary classes. "
   ]
  },
  {
   "cell_type": "code",
   "execution_count": 14,
   "id": "a68d16ed-64e0-4d3d-9567-0607f72d73ec",
   "metadata": {},
   "outputs": [],
   "source": [
    "# implementation of logistic regression\n",
    "\n",
    "import numpy as np\n",
    "from tqdm import trange\n",
    "\n",
    "class LogisticRegression():\n",
    "    def __init__(self, lr=0.001, epochs=1000):\n",
    "        self.lr = lr\n",
    "        self.epochs = epochs\n",
    "        self.weights = None\n",
    "        self.bias = None\n",
    "\n",
    "    def sigmoid(self, z):\n",
    "        z = np.clip(z, -500, 500) # avoid overflow\n",
    "        return 1 / (1 + np.exp(-z))\n",
    "\n",
    "    def compute_loss(self, y_true, y_pred):\n",
    "        eps = 1e-15\n",
    "        y_pred = np.clip(y_pred, eps, 1-eps) # avoid log(0)\n",
    "        loss = - (y_true * np.log(y_pred) + (1 - y_true) * np.log(1 - y_pred))\n",
    "        return np.mean(loss)\n",
    "    \n",
    "    def compute_predictions(self, X):\n",
    "        z = np.dot(X, self.weights) + self.bias\n",
    "        return self.sigmoid(z)\n",
    "\n",
    "    def compute_gradients(self, X, y_true, y_pred):\n",
    "        if len(y_true) != len(y_pred):\n",
    "            raise ValueError(\"y_true and y_pred must have the same length\")\n",
    "            \n",
    "        errors = y_pred - y_true\n",
    "        dw = np.dot(X.T, errors) / X.shape[0]\n",
    "        db = np.mean(errors)\n",
    "        return dw, db\n",
    "\n",
    "    def accuracy(y_true, y_pred):\n",
    "        return np.mean(np.array(y_true) == np.array(y_pred))\n",
    "        \n",
    "\n",
    "    def fit(self, X, y):\n",
    "        X = np.array(X)\n",
    "        y = np.array(y)\n",
    "        self.weights = np.zeros(X.shape[1])\n",
    "        self.bias = 0\n",
    "\n",
    "        for epoch in trange(self.epochs, desc=\"Training Progress\"):\n",
    "            predictions = self.compute_predictions(X)\n",
    "            loss = self.compute_loss(y, predictions)\n",
    "            dw, db = self.compute_gradients(X, y, predictions)\n",
    "\n",
    "            self.weights -= self.lr * dw\n",
    "            self.bias   -= self.lr * db\n",
    "\n",
    "            if epoch % 100 == 0 or epoch == self.epochs - 1:\n",
    "                print(f\"[Epoch {epoch + 1}/{self.epochs}] Loss: {loss:.6f}\")\n",
    "\n",
    "    def predict(self, X, threshold=0.5):\n",
    "        predictions = self.compute_predictions(X)\n",
    "        return (predictions >= threshold).astype(int)\n",
    "    "
   ]
  },
  {
   "cell_type": "markdown",
   "id": "c0765612-1db8-4797-a32a-d332075cf3bc",
   "metadata": {},
   "source": [
    "### Testing Logistic Regression"
   ]
  },
  {
   "cell_type": "code",
   "execution_count": 15,
   "id": "2d1f53e4-f7b8-4be4-b72e-047526c763c3",
   "metadata": {},
   "outputs": [
    {
     "name": "stderr",
     "output_type": "stream",
     "text": [
      "Training Progress: 100%|█████████████████| 1000/1000 [00:00<00:00, 30659.89it/s]"
     ]
    },
    {
     "name": "stdout",
     "output_type": "stream",
     "text": [
      "[Epoch 1/1000] Loss: 0.693147\n",
      "[Epoch 101/1000] Loss: 0.546664\n",
      "[Epoch 201/1000] Loss: 0.461122\n",
      "[Epoch 301/1000] Loss: 0.405350\n",
      "[Epoch 401/1000] Loss: 0.365906\n",
      "[Epoch 501/1000] Loss: 0.336352\n",
      "[Epoch 601/1000] Loss: 0.313247\n",
      "[Epoch 701/1000] Loss: 0.294592\n",
      "[Epoch 801/1000] Loss: 0.279145\n",
      "[Epoch 901/1000] Loss: 0.266094\n",
      "[Epoch 1000/1000] Loss: 0.254988\n"
     ]
    },
    {
     "name": "stderr",
     "output_type": "stream",
     "text": [
      "\n"
     ]
    }
   ],
   "source": [
    "from sklearn.datasets import load_breast_cancer\n",
    "from sklearn.model_selection import train_test_split\n",
    "from sklearn.preprocessing import StandardScaler \n",
    "from sklearn.linear_model import LogisticRegression as SklearnLogisticRegression\n",
    "\n",
    "data = load_breast_cancer()\n",
    "X_raw = data.data.tolist()\n",
    "y = data.target.tolist()\n",
    "\n",
    "X_train_raw, X_test_raw, y_train, y_test = train_test_split(X_raw, y, test_size=0.2, random_state=42)\n",
    "\n",
    "scaler = StandardScaler()\n",
    "X_train = scaler.fit_transform(X_train_raw).tolist()\n",
    "X_test = scaler.transform(X_test_raw).tolist()\n",
    "\n",
    "clf = LogisticRegression()\n",
    "clf.fit(X_train, y_train)\n",
    "clf_pred = clf.predict(X_test)"
   ]
  }
 ],
 "metadata": {
  "kernelspec": {
   "display_name": "Python 3 (ipykernel)",
   "language": "python",
   "name": "python3"
  },
  "language_info": {
   "codemirror_mode": {
    "name": "ipython",
    "version": 3
   },
   "file_extension": ".py",
   "mimetype": "text/x-python",
   "name": "python",
   "nbconvert_exporter": "python",
   "pygments_lexer": "ipython3",
   "version": "3.13.3"
  }
 },
 "nbformat": 4,
 "nbformat_minor": 5
}
