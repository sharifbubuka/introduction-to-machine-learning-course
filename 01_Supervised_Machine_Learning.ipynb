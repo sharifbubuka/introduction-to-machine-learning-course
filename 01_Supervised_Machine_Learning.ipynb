{
 "cells": [
  {
   "cell_type": "markdown",
   "id": "d6a42394-5f88-4b16-ab63-16ab65893829",
   "metadata": {},
   "source": [
    "# Introduction to Supervised Machine Learning"
   ]
  },
  {
   "cell_type": "markdown",
   "id": "66a981fb-62f6-4c5c-b6b8-bfc383c4f471",
   "metadata": {
    "jp-MarkdownHeadingCollapsed": true
   },
   "source": [
    "## Gradient Descent"
   ]
  },
  {
   "cell_type": "code",
   "execution_count": 8,
   "id": "665ce748-ddb3-423c-881a-c307388297d4",
   "metadata": {},
   "outputs": [],
   "source": [
    "# Gradient Descent "
   ]
  },
  {
   "cell_type": "markdown",
   "id": "d314cea7-6781-4e4b-b19a-231f57d2e304",
   "metadata": {
    "jp-MarkdownHeadingCollapsed": true
   },
   "source": [
    "## Linear Regression"
   ]
  },
  {
   "cell_type": "code",
   "execution_count": 9,
   "id": "d51d71b9-9e00-4784-8ff5-dc53feab565e",
   "metadata": {},
   "outputs": [],
   "source": [
    "# Linear Regression"
   ]
  },
  {
   "cell_type": "markdown",
   "id": "9bb4c89c-67cf-4b9b-a990-f2356ae57338",
   "metadata": {
    "jp-MarkdownHeadingCollapsed": true
   },
   "source": [
    "## Utility Functions"
   ]
  },
  {
   "cell_type": "code",
   "execution_count": 1,
   "id": "a0ba9c34-8eaf-4976-9acf-390ba32851a6",
   "metadata": {},
   "outputs": [],
   "source": [
    "import numpy as np\n",
    "\n",
    "def accuracy(y_true, y_pred):\n",
    "    y_true = np.array(y_true)\n",
    "    y_pred = np.array(y_pred)\n",
    "    return np.mean(y_true == y_pred)\n",
    "\n",
    "def precision(y_true, y_pred):\n",
    "    y_true = np.array(y_true)\n",
    "    y_pred = np.array(y_pred)\n",
    "    tp = np.sum((y_pred == 1) & (y_true == 1))\n",
    "    fp = np.sum((y_pred == 1) & (y_true == 0))\n",
    "    return tp / (tp + fp) if (tp + fp) != 0 else 0.0\n",
    "\n",
    "def recall(y_true, y_pred):\n",
    "    y_true = np.array(y_true)\n",
    "    y_pred = np.array(y_pred)\n",
    "    tp = np.sum((y_pred == 1) & (y_true == 1))\n",
    "    fn = np.sum((y_pred == 0) & (y_true == 1))\n",
    "    return tp / (tp + fn) if (tp + fn) != 0 else 0.0\n",
    "\n",
    "def f1_score(y_true, y_pred):\n",
    "    p = precision(y_true, y_pred)\n",
    "    r = recall(y_true, y_pred)\n",
    "    return 2 * (p * r) / (p + r) if (p + r) != 0 else 0.0\n"
   ]
  },
  {
   "cell_type": "markdown",
   "id": "ce6abefb-5bfe-446c-97ab-e2a2ad6dff52",
   "metadata": {
    "jp-MarkdownHeadingCollapsed": true
   },
   "source": [
    "## Logistic Regression\n",
    "\n",
    "Logistic regression is a discriminative model used for binary classification tasks. It directly estimates the probability of an outcome given the input features, focusing on modeling the relationship between inputs and the target without assuming any specific distribution of the features. It uses the logistic sigmoid function to convert linear combinations of features into probabilities between 0 and 1. Logistic regression assumes a linear decision boundary separating classes and optimizes its parameters by maximizing the likelihood of the observed data. Unlike generative models like Naive Bayes, logistic regression does not require feature independence and tends to perform well even when features are correlated. It is valued for its simplicity, interpretability, and efficiency in practical classification problems."
   ]
  },
  {
   "cell_type": "code",
   "execution_count": 4,
   "id": "a68d16ed-64e0-4d3d-9567-0607f72d73ec",
   "metadata": {},
   "outputs": [],
   "source": [
    "# implementation of logistic regression\n",
    "\n",
    "import time\n",
    "from tqdm import trange, tqdm\n",
    "\n",
    "class LogisticRegression():\n",
    "    def __init__(self, lr=0.001, epochs=1000):\n",
    "        self.lr = lr\n",
    "        self.epochs = epochs\n",
    "        self.weights = None\n",
    "        self.bias = None\n",
    "\n",
    "    def sigmoid(self, z):\n",
    "        z = np.clip(z, -500, 500) # avoid overflow\n",
    "        return 1 / (1 + np.exp(-z))\n",
    "\n",
    "    def compute_loss(self, y_true, y_pred):\n",
    "        eps = 1e-15\n",
    "        y_pred = np.clip(y_pred, eps, 1-eps) # avoid log(0)\n",
    "        loss = - (y_true * np.log(y_pred) + (1 - y_true) * np.log(1 - y_pred))\n",
    "        return np.mean(loss)\n",
    "    \n",
    "    def compute_predictions(self, X):\n",
    "        z = np.dot(X, self.weights) + self.bias\n",
    "        return self.sigmoid(z)\n",
    "\n",
    "    def compute_gradients(self, X, y_true, y_pred):\n",
    "        if len(y_true) != len(y_pred):\n",
    "            raise ValueError(\"y_true and y_pred must have the same length\")\n",
    "            \n",
    "        errors = y_pred - y_true\n",
    "        dw = np.dot(X.T, errors) / X.shape[0]\n",
    "        db = np.mean(errors)\n",
    "        return dw, db\n",
    "        \n",
    "    def fit(self, X, y):\n",
    "        X = np.array(X)\n",
    "        y = np.array(y)\n",
    "        self.weights = np.zeros(X.shape[1])\n",
    "        self.bias = 0\n",
    "\n",
    "        start_time = time.time()\n",
    "        \n",
    "        for epoch in trange(self.epochs, desc=\"Custom Logistic Regression Training Progress\"):\n",
    "            predictions = self.compute_predictions(X)\n",
    "            loss = self.compute_loss(y, predictions)\n",
    "            dw, db = self.compute_gradients(X, y, predictions)\n",
    "\n",
    "            self.weights -= self.lr * dw\n",
    "            self.bias   -= self.lr * db\n",
    "\n",
    "            if epoch in {0, self.epochs - 1} or (epoch + 1) % 100 == 0:\n",
    "                print(f\"[Epoch {epoch + 1}/{self.epochs}] Loss: {loss:.6f}\")\n",
    "\n",
    "        end_time = time.time()\n",
    "        tqdm.write(f\"Training completed in {end_time - start_time:.2f} seconds.\")\n",
    "\n",
    "    def predict(self, X, threshold=0.5):\n",
    "        predictions = self.compute_predictions(X)\n",
    "        return (predictions >= threshold).astype(int)\n",
    "    "
   ]
  },
  {
   "cell_type": "markdown",
   "id": "c0765612-1db8-4797-a32a-d332075cf3bc",
   "metadata": {},
   "source": [
    "### Testing Logistic Regression"
   ]
  },
  {
   "cell_type": "code",
   "execution_count": 5,
   "id": "2d1f53e4-f7b8-4be4-b72e-047526c763c3",
   "metadata": {},
   "outputs": [
    {
     "name": "stderr",
     "output_type": "stream",
     "text": [
      "Custom Logistic Regression Training Progress: 100%|█████████████████████████| 1000/1000 [00:00<00:00, 20530.93it/s]"
     ]
    },
    {
     "name": "stdout",
     "output_type": "stream",
     "text": [
      "[Epoch 1/1000] Loss: 0.693147\n",
      "[Epoch 100/1000] Loss: 0.255312\n",
      "[Epoch 200/1000] Loss: 0.192116\n",
      "[Epoch 300/1000] Loss: 0.163552\n",
      "[Epoch 400/1000] Loss: 0.146604\n",
      "[Epoch 500/1000] Loss: 0.135133\n",
      "[Epoch 600/1000] Loss: 0.126727\n",
      "[Epoch 700/1000] Loss: 0.120234\n",
      "[Epoch 800/1000] Loss: 0.115026\n",
      "[Epoch 900/1000] Loss: 0.110729\n",
      "[Epoch 1000/1000] Loss: 0.107107\n",
      "Training completed in 0.05 seconds.\n"
     ]
    },
    {
     "name": "stderr",
     "output_type": "stream",
     "text": [
      "\n"
     ]
    },
    {
     "data": {
      "image/png": "[encoded data removed]",
      "text/plain": [
       "<Figure size 800x500 with 1 Axes>"
      ]
     },
     "metadata": {},
     "output_type": "display_data"
    }
   ],
   "source": [
    "import matplotlib.pyplot as plt\n",
    "from sklearn.datasets import load_breast_cancer\n",
    "from sklearn.model_selection import train_test_split\n",
    "from sklearn.preprocessing import StandardScaler \n",
    "from sklearn.linear_model import LogisticRegression as SklearnLogisticRegression\n",
    "from sklearn.metrics import accuracy_score, precision_score, recall_score, f1_score\n",
    "\n",
    "data = load_breast_cancer()\n",
    "X_raw = data.data.tolist()\n",
    "y = data.target.tolist()\n",
    "\n",
    "X_train_raw, X_test_raw, y_train, y_test = train_test_split(X_raw, y, test_size=0.2, random_state=42)\n",
    "\n",
    "scaler = StandardScaler()\n",
    "X_train = scaler.fit_transform(X_train_raw).tolist()\n",
    "X_test = scaler.transform(X_test_raw).tolist()\n",
    "\n",
    "clf = LogisticRegression(lr=0.01)\n",
    "clf.fit(X_train, y_train)\n",
    "clf_pred = clf.predict(X_test)\n",
    "\n",
    "sk_clf = SklearnLogisticRegression()\n",
    "sk_clf.fit(X_train, y_train)\n",
    "sk_clf_pred = sk_clf.predict(X_test)\n",
    "\n",
    "custom_metrics = {\n",
    "    \"Accuracy\": accuracy(y_test, clf_pred),\n",
    "    \"Precision\": precision(y_test, clf_pred),\n",
    "    \"Recall\": recall(y_test, clf_pred),\n",
    "    \"F1 Score\": f1_score(y_test, clf_pred)\n",
    "}\n",
    "\n",
    "sklearn_metrics = {\n",
    "    \"Accuracy\": accuracy_score(y_test, sk_clf_pred),\n",
    "    \"Precision\": precision_score(y_test, sk_clf_pred),\n",
    "    \"Recall\": recall_score(y_test, sk_clf_pred),\n",
    "    \"F1 Score\": f1_score(y_test, sk_clf_pred)\n",
    "}\n",
    "\n",
    "labels = list(custom_metrics.keys())\n",
    "custom_values = [custom_metrics[k] * 100 for k in labels]\n",
    "sklearn_values = [sklearn_metrics[k] * 100 for k in labels]\n",
    "\n",
    "x = range(len(labels))\n",
    "width = 0.35\n",
    "\n",
    "plt.figure(figsize=(8, 5))\n",
    "plt.bar([i - width/2 for i in x], custom_values, width=width, label='Custom')\n",
    "plt.bar([i + width/2 for i in x], sklearn_values, width=width, label='Sklearn')\n",
    "\n",
    "plt.ylabel('Score (%)')\n",
    "plt.title('Performance Comparison')\n",
    "plt.xticks(x, labels)\n",
    "plt.ylim(0, 100)\n",
    "plt.legend()\n",
    "plt.grid(True, linestyle='--', alpha=0.5)\n",
    "plt.tight_layout()\n",
    "plt.show()\n"
   ]
  },
  {
   "cell_type": "markdown",
   "id": "3eb8257e-3541-4c97-b788-caac96a6e290",
   "metadata": {},
   "source": [
    "## Naive Bayes\n",
    "\n",
    "Naive Bayes is a generative probabilistic model used for classification tasks, which works by modeling the joint probability distribution of the input features and the target class. It applies Bayes' theorem with the strong assumption that features are conditionally independent given the class label, simplifying the computation of the likelihood. This assumption often makes Naive Bayes computationally efficient and effective, especially for high-dimensional data or when training data is limited. Unlike logistic regression, which directly models the posterior probability, Naive Bayes models the underlying distribution of each class and uses this to infer class membership. While this independence assumption can limit its accuracy when features are highly correlated, Naive Bayes tends to perform surprisingly well in many real-world scenarios, particularly in text classification and spam filtering. Its generative nature also allows it to handle missing data gracefully and requires fewer training samples to estimate parameters compared to discriminative models like logistic regression."
   ]
  },
  {
   "cell_type": "code",
   "execution_count": 12,
   "id": "c49f0262-27c8-4568-82ab-88818cc64f11",
   "metadata": {},
   "outputs": [],
   "source": [
    "import numpy as np\n",
    "from collections import defaultdict\n",
    "\n",
    "class NaiveBayes():\n",
    "    def __init__(self, var_smoothing=1e-09):\n",
    "        self._classes = None\n",
    "        self._mean = None\n",
    "        self._var = None\n",
    "        self._priors = None\n",
    "        self._var_smoothing = var_smoothing\n",
    "        \n",
    "    def fit(self, X, y):\n",
    "        X = np.array(X)\n",
    "        y = np.array(y)\n",
    "\n",
    "        self._classes = np.unique(y)\n",
    "        n_classes = len(self._classes)\n",
    "        n_samples, n_features = X.shape\n",
    "\n",
    "        self._mean = np.zeros((n_classes, n_features), dtype=np.float64)\n",
    "        self._var = np.zeros((n_classes, n_features), dtype=np.float64)\n",
    "        self._priors = np.zeros(n_classes, dtype=np.float64)\n",
    "\n",
    "        for idx, c in enumerate(self._classes):\n",
    "            X_c = X[y == c]\n",
    "            self._mean[idx] = np.mean(X_c, axis=0)\n",
    "            self._var[idx] = np.var(X_c, axis=0) + self._var_smoothing\n",
    "            self._priors[idx] = X_c.shape[0] / n_samples\n",
    "\n",
    "    def _pdf(self, class_idx, x):\n",
    "        mean = self._mean[class_idx]\n",
    "        var = self._var[class_idx]\n",
    "        numerator = np.exp(-((x - mean) ** 2) / (2 * var))\n",
    "        denominator = np.sqrt(2 * np.pi * var)\n",
    "        return numerator / denominator\n",
    "            \n",
    "    def _predict(self, x):\n",
    "        posteriors = []\n",
    "\n",
    "        for idx, _ in enumerate(self._classes):\n",
    "            prior_log = np.log(self._priors[idx])\n",
    "            class_conditional = np.sum(np.log(self._pdf(idx, x)))\n",
    "            posterior = prior_log + class_conditional\n",
    "            posteriors.append(posterior)\n",
    "\n",
    "        return self._classes[np.argmax(posteriors)]\n",
    "\n",
    "    def predict(self, X):\n",
    "        return np.array([self._predict(x) for x in X])"
   ]
  },
  {
   "cell_type": "markdown",
   "id": "6535eaeb-007c-4a9c-90f4-ad44bfb058cf",
   "metadata": {},
   "source": [
    "### Testing Naive Bayes"
   ]
  },
  {
   "cell_type": "code",
   "execution_count": 13,
   "id": "a5f82bd9-a082-4665-8640-bb3e251142d7",
   "metadata": {},
   "outputs": [
    {
     "data": {
      "image/png": "[encoded data removed]",
      "text/plain": [
       "<Figure size 800x500 with 1 Axes>"
      ]
     },
     "metadata": {},
     "output_type": "display_data"
    }
   ],
   "source": [
    "import matplotlib.pyplot as plt\n",
    "from sklearn.datasets import load_breast_cancer\n",
    "from sklearn.model_selection import train_test_split\n",
    "from sklearn.preprocessing import StandardScaler \n",
    "from sklearn.naive_bayes import GaussianNB\n",
    "from sklearn.metrics import accuracy_score, precision_score, recall_score, f1_score\n",
    "\n",
    "data = load_breast_cancer()\n",
    "X_raw = data.data.tolist()\n",
    "y = data.target.tolist()\n",
    "\n",
    "X_train_raw, X_test_raw, y_train, y_test = train_test_split(X_raw, y, test_size=0.2, random_state=42)\n",
    "\n",
    "scaler = StandardScaler()\n",
    "X_train = scaler.fit_transform(X_train_raw).tolist()\n",
    "X_test = scaler.transform(X_test_raw).tolist()\n",
    "\n",
    "nb = NaiveBayes()\n",
    "nb.fit(X_train, y_train)\n",
    "nb_pred = clf.predict(X_test)\n",
    "\n",
    "gnb = GaussianNB()\n",
    "gnb.fit(X_train, y_train)\n",
    "gnb_pred = sk_clf.predict(X_test)\n",
    "\n",
    "custom_metrics = {\n",
    "    \"Accuracy\": accuracy(y_test, nb_pred),\n",
    "    \"Precision\": precision(y_test, nb_pred),\n",
    "    \"Recall\": recall(y_test, nb_pred),\n",
    "    \"F1 Score\": f1_score(y_test, nb_pred)\n",
    "}\n",
    "\n",
    "sklearn_metrics = {\n",
    "    \"Accuracy\": accuracy_score(y_test, gnb_pred),\n",
    "    \"Precision\": precision_score(y_test, gnb_pred),\n",
    "    \"Recall\": recall_score(y_test, gnb_pred),\n",
    "    \"F1 Score\": f1_score(y_test, gnb_pred)\n",
    "}\n",
    "\n",
    "labels = list(custom_metrics.keys())\n",
    "custom_values = [custom_metrics[k] * 100 for k in labels]\n",
    "sklearn_values = [sklearn_metrics[k] * 100 for k in labels]\n",
    "\n",
    "x = range(len(labels))\n",
    "width = 0.35\n",
    "\n",
    "plt.figure(figsize=(8, 5))\n",
    "plt.bar([i - width/2 for i in x], custom_values, width=width, label='Custom')\n",
    "plt.bar([i + width/2 for i in x], sklearn_values, width=width, label='Sklearn')\n",
    "\n",
    "plt.ylabel('Score (%)')\n",
    "plt.title('Performance Comparison')\n",
    "plt.xticks(x, labels)\n",
    "plt.ylim(0, 100)\n",
    "plt.legend()\n",
    "plt.grid(True, linestyle='--', alpha=0.5)\n",
    "plt.tight_layout()\n",
    "plt.show()"
   ]
  }
 ],
 "metadata": {
  "kernelspec": {
   "display_name": "Python 3 (ipykernel)",
   "language": "python",
   "name": "python3"
  },
  "language_info": {
   "codemirror_mode": {
    "name": "ipython",
    "version": 3
   },
   "file_extension": ".py",
   "mimetype": "text/x-python",
   "name": "python",
   "nbconvert_exporter": "python",
   "pygments_lexer": "ipython3",
   "version": "3.13.3"
  }
 },
 "nbformat": 4,
 "nbformat_minor": 5
}
